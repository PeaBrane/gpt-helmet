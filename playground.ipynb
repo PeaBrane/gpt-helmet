{
 "cells": [
  {
   "cell_type": "code",
   "execution_count": 63,
   "metadata": {},
   "outputs": [],
   "source": [
    "from dotenv import load_dotenv\n",
    "load_dotenv(\"api.env\")\n",
    "\n",
    "import pandas as pd\n",
    "import numpy as np"
   ]
  },
  {
   "cell_type": "code",
   "execution_count": 64,
   "metadata": {},
   "outputs": [],
   "source": [
    "df = pd.read_csv('data/ground_truth_df.csv')\n",
    "prompts = [\n",
    "    f\"\"\"\"{narrative}\" Is the person wearing a helmet? Answer 2 if cannot infer from narrative. Answer 1 if yes, and 0 if no. Only output the number.\"\"\"\n",
    "    for narrative in df['narrative_1'].tolist()\n",
    "]"
   ]
  },
  {
   "cell_type": "code",
   "execution_count": 65,
   "metadata": {},
   "outputs": [
    {
     "name": "stderr",
     "output_type": "stream",
     "text": [
      "100%|██████████| 400/400 [20:47<00:00,  3.12s/it]\n"
     ]
    }
   ],
   "source": [
    "import time\n",
    "from together import Together\n",
    "from tqdm import tqdm\n",
    "\n",
    "client = Together()\n",
    "\n",
    "INITIAL_BACKOFF = 1  # in seconds\n",
    "\n",
    "def send_with_retry(prompt):\n",
    "    INITIAL_BACKOFF = 0.5  # Define backoff constant\n",
    "    attempt = 0  # Initialize attempt counter\n",
    "    \n",
    "    while True:\n",
    "        try:\n",
    "            response = client.chat.completions.create(\n",
    "                model=\"deepseek-ai/DeepSeek-V3\",\n",
    "                messages=[{\"role\": \"user\", \"content\": prompt}],\n",
    "                max_tokens=5,\n",
    "            )\n",
    "            return response\n",
    "        except Exception as e:\n",
    "            backoff = INITIAL_BACKOFF * (2 ** attempt)\n",
    "            print(f\"Error: {e} (attempt {attempt+1}), retrying in {backoff:.1f}s\")\n",
    "            time.sleep(backoff)\n",
    "            attempt += 1  # Increment attempt counter\n",
    "            \n",
    "            # Add maximum retry condition\n",
    "            if attempt >= 5:  # Max 5 retries\n",
    "                print(f\"Failed to get response after {attempt} attempts for: {prompt}\")\n",
    "                return None\n",
    "\n",
    "# Example usage\n",
    "responses = [send_with_retry(p) for p in tqdm(prompts)]"
   ]
  },
  {
   "cell_type": "code",
   "execution_count": 66,
   "metadata": {},
   "outputs": [
    {
     "data": {
      "text/plain": [
       "0.9875"
      ]
     },
     "execution_count": 66,
     "metadata": {},
     "output_type": "execute_result"
    }
   ],
   "source": [
    "numbers = np.array([int(response.choices[0].message.content) for response in responses])\n",
    "(df['helmet_status_human'].to_numpy() == numbers).mean()"
   ]
  },
  {
   "cell_type": "code",
   "execution_count": 82,
   "metadata": {},
   "outputs": [],
   "source": [
    "mismatched_indices = np.where(df['helmet_status_human'] != numbers)[0]\n",
    "mismatched_df = pd.DataFrame({\n",
    "    'Index': mismatched_indices,\n",
    "    'Human Label': df.iloc[mismatched_indices]['helmet_status_human'].values,\n",
    "    'Model Prediction': numbers[mismatched_indices],\n",
    "    'Narrative': df.iloc[mismatched_indices]['narrative_1'].values\n",
    "})"
   ]
  },
  {
   "cell_type": "code",
   "execution_count": 85,
   "metadata": {},
   "outputs": [],
   "source": [
    "# Use pandas built-in to_latex function for a simple table\n",
    "latex_table = mismatched_df.to_latex(\n",
    "    index=False,\n",
    "    longtable=False,  # Changed to False to prevent multi-page tables\n",
    "    caption=\"Mismatched predictions between human labels and model predictions.\",\n",
    "    label=\"tab:mismatches\",\n",
    "    escape=True,\n",
    "    column_format=\"cccp{8cm}\"\n",
    ")\n",
    "\n",
    "# Save to file\n",
    "with open('mismatches_table.tex', 'w') as f:\n",
    "    f.write(latex_table)"
   ]
  },
  {
   "cell_type": "code",
   "execution_count": null,
   "metadata": {},
   "outputs": [],
   "source": []
  }
 ],
 "metadata": {
  "kernelspec": {
   "display_name": "base",
   "language": "python",
   "name": "python3"
  },
  "language_info": {
   "codemirror_mode": {
    "name": "ipython",
    "version": 3
   },
   "file_extension": ".py",
   "mimetype": "text/x-python",
   "name": "python",
   "nbconvert_exporter": "python",
   "pygments_lexer": "ipython3",
   "version": "3.12.2"
  }
 },
 "nbformat": 4,
 "nbformat_minor": 2
}
